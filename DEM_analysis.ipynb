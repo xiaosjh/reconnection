{
 "cells": [
  {
   "cell_type": "code",
   "execution_count": 2,
   "metadata": {},
   "outputs": [
    {
     "name": "stderr",
     "output_type": "stream",
     "text": [
      "c:\\Users\\19671\\anaconda3\\envs\\sun\\Lib\\site-packages\\tqdm\\auto.py:21: TqdmWarning: IProgress not found. Please update jupyter and ipywidgets. See https://ipywidgets.readthedocs.io/en/stable/user_install.html\n",
      "  from .autonotebook import tqdm as notebook_tqdm\n"
     ]
    }
   ],
   "source": [
    "import sunpy\n",
    "import sunpy.map\n",
    "import numpy as np\n",
    "from math import *\n",
    "import astropy.units as u\n",
    "from astropy.io import fits\n",
    "import matplotlib.pyplot as plt\n",
    "from scipy.optimize import curve_fit\n",
    "from sunpy.coordinates import frames\n",
    "import matplotlib.gridspec as gridspec\n",
    "from scipy.interpolate import interp1d\n",
    "from astropy.coordinates import SkyCoord\n",
    "from matplotlib.patches import ConnectionPatch\n",
    "import os,cv2\n",
    "from scipy.optimize import fmin\n",
    "from scipy.ndimage import affine_transform\n",
    "import shutil\n",
    "from scipy.io import readsav\n",
    "import glob\n",
    "from matplotlib.patches import Rectangle\n",
    "from scipy.ndimage import zoom"
   ]
  },
  {
   "cell_type": "code",
   "execution_count": 2,
   "metadata": {},
   "outputs": [],
   "source": [
    "time_list=glob.glob(r'D:\\Learning\\PHD1st\\magnetic_reconnecion\\data\\AIA\\AIA131rott\\\\'+'*.fits')\n",
    "file_list=glob.glob(r'D:\\Learning\\PHD1st\\magnetic_reconnecion\\program\\DEM\\\\'+'*.sav')\n",
    "avg_temp=np.zeros(20)\n",
    "avg_em=np.zeros(20)\n",
    "all_smap_temp=[]\n",
    "all_smap_em=[]\n",
    "all_dem_out=[]\n",
    "for i in range(20):\n",
    "    datas=readsav(file_list[i])\n",
    "    result=datas['result']\n",
    "    dem_out=result['DEM_OUT'][0]\n",
    "    smap_temp=result['SMAP_TEMP'][0]\n",
    "    smap_em=result['SMAP_EM'][0]\n",
    "    all_smap_temp.append(smap_temp)\n",
    "    all_smap_em.append(smap_em)\n",
    "    all_dem_out.append(dem_out)\n",
    "    avg_temp[i]=np.mean(smap_temp[138:148,90:100])\n",
    "    avg_em[i]=np.mean(smap_em[138:148,90:100])"
   ]
  },
  {
   "cell_type": "code",
   "execution_count": 8,
   "metadata": {},
   "outputs": [],
   "source": [
    "temp1=all_smap_temp[0]\n",
    "dem1=all_dem_out[0]"
   ]
  },
  {
   "cell_type": "code",
   "execution_count": 9,
   "metadata": {},
   "outputs": [
    {
     "name": "stdout",
     "output_type": "stream",
     "text": [
      "[8.80961195e+19 1.29428744e+20 1.49640560e+20 1.50539830e+20\n",
      " 1.44894272e+20 1.46450669e+20 1.60486624e+20 1.53332472e+20\n",
      " 9.58958045e+19 2.89779454e+19 3.03320750e+18 9.11247189e+16\n",
      " 1.31198533e+15 1.76995609e+13 4.36334080e+11 3.92700004e+10\n",
      " 2.24116281e+10 7.03047828e+10 9.28732702e+11 4.19292974e+13\n",
      " 5.51609219e+15]\n"
     ]
    }
   ],
   "source": [
    "dem10=dem1[:,0,0]\n",
    "print(dem10)"
   ]
  },
  {
   "cell_type": "code",
   "execution_count": 16,
   "metadata": {},
   "outputs": [
    {
     "name": "stdout",
     "output_type": "stream",
     "text": [
      "837011.1532514308\n"
     ]
    }
   ],
   "source": [
    "avg_t=0\n",
    "for i in range(21):\n",
    "    avg_t=avg_t+dem10[i]*10**(5.5+0.1*i)\n",
    "\n",
    "avg_t=avg_t/np.sum(dem10)\n",
    "print(10**(avg_t))"
   ]
  },
  {
   "cell_type": "code",
   "execution_count": 18,
   "metadata": {},
   "outputs": [],
   "source": [
    "from scipy.io import readsav\n",
    "\n",
    "# 读取 IDL 保存的 .sav 文件\n",
    "data = readsav(r'D:\\Learning\\PHD1st\\magnetic_reconnecion\\data\\AIA2\\131.sav', python_dict=True)\n",
    "\n",
    "# 提取保存的结构\n",
    "matrix_struct = data['matrix_struct']\n",
    "\n",
    "# 遍历结构，提取每个矩阵\n",
    "matrices = []\n",
    "for i, entry in enumerate(matrix_struct):\n",
    "    matrix = entry['matrix'].astype(float)  # 提取矩阵并转换为 NumPy 数组\n",
    "    matrices.append(matrix)\n",
    "    #print(f\"Matrix {i}: Shape {matrix.shape}\")"
   ]
  },
  {
   "cell_type": "markdown",
   "metadata": {},
   "source": [
    "看一看AIA的尺寸，之前发现图像会有轻微的大小问题，发现是后面的尺寸稍微小一些。<font color=red size=7>目前先不进一步处理了，但是以后别忘了 </font>"
   ]
  },
  {
   "cell_type": "code",
   "execution_count": 19,
   "metadata": {},
   "outputs": [
    {
     "name": "stdout",
     "output_type": "stream",
     "text": [
      "(384, 385)\n",
      "(384, 385)\n",
      "(384, 385)\n",
      "(384, 385)\n",
      "(384, 385)\n",
      "(384, 385)\n",
      "(384, 385)\n",
      "(384, 385)\n",
      "(384, 385)\n",
      "(384, 385)\n",
      "(384, 385)\n",
      "(384, 385)\n",
      "(384, 385)\n",
      "(384, 385)\n",
      "(384, 385)\n",
      "(384, 385)\n",
      "(384, 385)\n",
      "(384, 385)\n",
      "(384, 385)\n",
      "(384, 385)\n",
      "(384, 385)\n",
      "(384, 385)\n",
      "(384, 385)\n",
      "(384, 385)\n",
      "(384, 385)\n",
      "(384, 385)\n",
      "(384, 385)\n",
      "(384, 385)\n",
      "(384, 385)\n",
      "(384, 385)\n",
      "(384, 385)\n",
      "(384, 385)\n",
      "(384, 385)\n",
      "(384, 385)\n",
      "(384, 385)\n",
      "(384, 385)\n",
      "(384, 385)\n",
      "(384, 385)\n",
      "(384, 385)\n",
      "(384, 385)\n",
      "(384, 385)\n",
      "(384, 385)\n",
      "(384, 385)\n",
      "(384, 385)\n",
      "(384, 385)\n",
      "(384, 385)\n",
      "(384, 385)\n",
      "(384, 385)\n",
      "(384, 385)\n",
      "(384, 385)\n",
      "(384, 384)\n",
      "(384, 384)\n",
      "(384, 384)\n",
      "(384, 384)\n",
      "(384, 384)\n",
      "(384, 384)\n",
      "(384, 384)\n",
      "(384, 384)\n",
      "(384, 384)\n",
      "(384, 384)\n",
      "(384, 384)\n",
      "(384, 384)\n",
      "(384, 384)\n",
      "(384, 384)\n",
      "(384, 384)\n",
      "(384, 384)\n",
      "(384, 384)\n",
      "(384, 384)\n",
      "(384, 384)\n",
      "(384, 384)\n",
      "(384, 384)\n",
      "(384, 384)\n",
      "(384, 384)\n",
      "(384, 384)\n",
      "(384, 384)\n",
      "(384, 384)\n",
      "(384, 384)\n",
      "(384, 384)\n",
      "(384, 384)\n",
      "(384, 384)\n",
      "(384, 384)\n",
      "(384, 384)\n",
      "(384, 384)\n",
      "(384, 384)\n",
      "(384, 384)\n",
      "(384, 384)\n",
      "(384, 384)\n",
      "(384, 384)\n",
      "(384, 384)\n",
      "(384, 384)\n",
      "(384, 384)\n",
      "(384, 384)\n",
      "(384, 384)\n",
      "(384, 384)\n",
      "(384, 384)\n",
      "(384, 384)\n",
      "(384, 384)\n",
      "(384, 384)\n",
      "(384, 384)\n",
      "(384, 384)\n"
     ]
    }
   ],
   "source": [
    "data=readsav(r'D:\\Learning\\PHD1st\\magnetic_reconnecion\\data\\AIA2\\131.sav')\n",
    "data1=data['matrix_struct']\n",
    "for i in range(100):\n",
    "    print(data1[i][0].shape)"
   ]
  },
  {
   "cell_type": "markdown",
   "metadata": {},
   "source": [
    "这里是画图，看DEM的，或许比colobar固定住更正确一些"
   ]
  },
  {
   "cell_type": "code",
   "execution_count": null,
   "metadata": {},
   "outputs": [],
   "source": [
    "time_list=glob.glob(r'D:\\Learning\\PHD1st\\magnetic_reconnecion\\data\\AIA2\\131\\\\'+'*.fits')\n",
    "file_list=glob.glob(r'D:\\Learning\\PHD1st\\magnetic_reconnecion\\data\\AIA2\\DEM2\\\\'+'*.sav')\n",
    "for i in range(101):\n",
    "    datas=readsav(file_list[i])\n",
    "    result=datas['result']\n",
    "    dem_out=result['DEM_OUT'][0]\n",
    "    smap_temp=result['SMAP_TEMP'][0]\n",
    "    smap_em=result['SMAP_EM'][0]\n",
    "    fig = plt.figure(figsize=(15, 5))\n",
    "    gs=gridspec.GridSpec(5,15,wspace=0.5,hspace=0)\n",
    "    ax1=fig.add_subplot(gs[0:5,1:5])\n",
    "    plt.imshow(np.log1p(matrices[i]),cmap='sdoaia131',origin='lower',vmin=0.5,vmax=6)\n",
    "    plt.axis('off')\n",
    "    plt.title(time_list[i][-38:-21])\n",
    "    ax2=fig.add_subplot(gs[0:5,5:10])\n",
    "    plt.imshow(np.log10(smap_temp),cmap='jet',origin='lower')\n",
    "    # left_bottom=(90,138)#x,y\n",
    "    # rect=Rectangle(left_bottom,10,10,edgecolor='black',facecolor='none')#x,y\n",
    "    # ax2.add_patch(rect)\n",
    "    plt.title('Map of log temperature')\n",
    "    plt.axis('off')\n",
    "    plt.colorbar()\n",
    "    ax3=fig.add_subplot(gs[0:5,10:15])\n",
    "    plt.imshow(np.log10(smap_em),cmap='jet',origin='lower',vmin=26.5,vmax=29)\n",
    "    # rect=Rectangle(left_bottom,10,10,edgecolor='black',facecolor='none')#x,y\n",
    "    # ax3.add_patch(rect)\n",
    "    plt.title('Map of log EM')\n",
    "    plt.axis('off')\n",
    "    plt.colorbar()\n",
    "    plt.savefig(r'D:\\Learning\\PHD1st\\magnetic_reconnecion\\data\\AIA2\\DEMfig\\\\'+str(i)+'.jpg',dpi=300)\n",
    "    plt.close()\n"
   ]
  },
  {
   "cell_type": "markdown",
   "metadata": {},
   "source": [
    "接下来我先看看曝光时间吧"
   ]
  },
  {
   "cell_type": "code",
   "execution_count": 3,
   "metadata": {},
   "outputs": [
    {
     "name": "stdout",
     "output_type": "stream",
     "text": [
      "2.000036\n",
      "2.000036\n",
      "2.000037\n",
      "2.000039\n",
      "2.000037\n",
      "2.000038\n",
      "2.000037\n",
      "2.000036\n",
      "2.0000389999999997\n",
      "2.0000370000000003\n",
      "2.0000359999999997\n",
      "2.000037\n",
      "2.000038\n",
      "2.000036\n",
      "2.00004\n",
      "2.0000370000000003\n",
      "2.000038\n",
      "2.0000370000000003\n",
      "2.00004\n",
      "2.000038\n",
      "2.000038\n",
      "2.0000370000000003\n",
      "2.000038\n",
      "2.00004\n",
      "2.0000370000000003\n",
      "2.000038\n",
      "2.000035\n",
      "2.0000370000000003\n",
      "2.000036\n",
      "2.000038\n",
      "2.000038\n",
      "2.0000370000000003\n",
      "2.000038\n",
      "2.0000370000000003\n",
      "2.0000370000000003\n",
      "2.000038\n",
      "2.000038\n",
      "2.000035\n",
      "2.000035\n",
      "2.000034\n",
      "2.000036\n",
      "2.000035\n",
      "2.0000389999999997\n",
      "2.000036\n",
      "2.000037\n",
      "0.398498\n",
      "2.000038\n",
      "0.480419\n",
      "2.000037\n",
      "0.574625\n",
      "2.000036\n",
      "0.6893130000000001\n",
      "2.000036\n",
      "0.828576\n",
      "2.0000389999999997\n",
      "0.9924179999999999\n",
      "2.00004\n",
      "1.193153\n",
      "2.00004\n",
      "1.430714\n",
      "2.000037\n",
      "1.71332\n",
      "2.000039\n",
      "0.34115499999999993\n",
      "2.000036\n",
      "0.410786\n",
      "2.000039\n",
      "0.49270699999999995\n",
      "2.000039\n",
      "0.591009\n",
      "2.000039\n",
      "0.709797\n",
      "2.000039\n",
      "0.8531559999999998\n",
      "2.000036\n",
      "1.02109\n",
      "2.000037\n",
      "1.225918\n",
      "2.000039\n",
      "1.471659\n",
      "2.000037\n",
      "2.000039\n",
      "2.0000389999999997\n",
      "2.000036\n",
      "2.0000370000000003\n",
      "2.000036\n",
      "2.000037\n",
      "2.0000400000000003\n",
      "2.000039\n",
      "2.0000400000000003\n",
      "2.000042\n",
      "2.000043\n",
      "2.0000389999999997\n",
      "2.000038\n",
      "2.00004\n",
      "2.0000370000000003\n",
      "2.0000389999999997\n",
      "2.000035\n",
      "2.00004\n",
      "2.000041\n",
      "2.000036\n",
      "2.000038\n",
      "2.000037\n",
      "2.000037\n",
      "2.000039\n",
      "2.0000389999999997\n",
      "2.000038\n",
      "2.000036\n",
      "2.000038\n",
      "2.000039\n",
      "2.000036\n",
      "2.000034\n",
      "2.0000329999999997\n",
      "2.000034\n",
      "2.0000370000000003\n",
      "2.000036\n",
      "2.000034\n",
      "2.000037\n",
      "2.0000370000000003\n",
      "2.000038\n",
      "2.000039\n",
      "2.000037\n",
      "2.000035\n",
      "2.000038\n",
      "2.000036\n",
      "2.000037\n",
      "2.000035\n",
      "2.000037\n",
      "2.000036\n",
      "2.000038\n",
      "2.000036\n",
      "2.000035\n",
      "2.0000370000000003\n"
     ]
    }
   ],
   "source": [
    "file_list=glob.glob(r'D:\\Learning\\PHD1st\\magnetic_reconnecion\\data\\AIA2\\193\\\\'+'*.fits')\n",
    "for i in range(0,133):\n",
    "    rsm=fits.open(file_list[i])\n",
    "    exptime=rsm[1].header['EXPTIME']\n",
    "    print(exptime)"
   ]
  },
  {
   "cell_type": "markdown",
   "metadata": {},
   "source": [
    "从python序号第18的DEM开始间隔一个，画DEM的图像，固定和不固定colorbar都试一试"
   ]
  },
  {
   "cell_type": "code",
   "execution_count": 39,
   "metadata": {},
   "outputs": [
    {
     "name": "stderr",
     "output_type": "stream",
     "text": [
      "C:\\Users\\19671\\AppData\\Local\\Temp\\ipykernel_20336\\1354324074.py:24: RuntimeWarning: invalid value encountered in log10\n",
      "  plt.imshow(np.log10(smap_em),cmap='jet',origin='lower',vmin=26.5,vmax=29)\n"
     ]
    }
   ],
   "source": [
    "time_list=glob.glob(r'D:\\Learning\\PHD1st\\magnetic_reconnecion\\data\\AIA2\\131\\\\'+'*.fits')\n",
    "file_list=glob.glob(r'D:\\Learning\\PHD1st\\magnetic_reconnecion\\data\\AIA2\\DEM2\\\\'+'*.sav')\n",
    "for i in range(0,101,2):\n",
    "    datas=readsav(file_list[i])\n",
    "    result=datas['result']\n",
    "    dem_out=result['DEM_OUT'][0]\n",
    "    smap_temp=result['SMAP_TEMP'][0]\n",
    "    smap_em=result['SMAP_EM'][0]\n",
    "    fig = plt.figure(figsize=(15, 5))\n",
    "    gs=gridspec.GridSpec(5,15,wspace=0.5,hspace=0)\n",
    "    ax1=fig.add_subplot(gs[0:5,1:5])\n",
    "    plt.imshow(np.log1p(matrices[i]),cmap='sdoaia131',origin='lower',vmin=0.5,vmax=6)\n",
    "    plt.axis('off')\n",
    "    plt.title(time_list[i][-38:-21])\n",
    "    ax2=fig.add_subplot(gs[0:5,5:10])\n",
    "    plt.imshow(np.log10(smap_temp),cmap='jet',origin='lower',vmin=6.0,vmax=7.3)\n",
    "    # left_bottom=(90,138)#x,y\n",
    "    # rect=Rectangle(left_bottom,10,10,edgecolor='black',facecolor='none')#x,y\n",
    "    # ax2.add_patch(rect)\n",
    "    plt.title('Map of log temperature')\n",
    "    plt.axis('off')\n",
    "    plt.colorbar()\n",
    "    ax3=fig.add_subplot(gs[0:5,10:15])\n",
    "    plt.imshow(np.log10(smap_em),cmap='jet',origin='lower',vmin=26.5,vmax=29)\n",
    "    # rect=Rectangle(left_bottom,10,10,edgecolor='black',facecolor='none')#x,y\n",
    "    # ax3.add_patch(rect)\n",
    "    plt.title('Map of log EM')\n",
    "    plt.axis('off')\n",
    "    plt.colorbar()\n",
    "    plt.savefig(r'D:\\Learning\\PHD1st\\magnetic_reconnecion\\data\\AIA2\\DEM50\\\\'+str(i)+'.jpg',dpi=300)\n",
    "    plt.close()\n"
   ]
  },
  {
   "cell_type": "markdown",
   "metadata": {},
   "source": [
    "输出的结果是DEM.mp4，看样子结果还是很不错的啊，那之后就按照从python序号32开始，间隔一个在DEM画slice，然后看喷流的速度吧  \n",
    "我先再试试那个画slice的，把它改成python"
   ]
  },
  {
   "cell_type": "code",
   "execution_count": 47,
   "metadata": {},
   "outputs": [],
   "source": [
    "time_list=glob.glob(r'D:\\Learning\\PHD1st\\magnetic_reconnecion\\data\\AIA2\\131\\\\'+'*.fits')\n",
    "file_list=glob.glob(r'D:\\Learning\\PHD1st\\magnetic_reconnecion\\data\\AIA2\\DEM2\\\\'+'*.sav')\n",
    "temp=np.zeros((384,384,34))\n",
    "cnt=0\n",
    "for i in range(32,99,2):\n",
    "    datas=readsav(file_list[i])\n",
    "    result=datas['result']\n",
    "    dem_out=result['DEM_OUT'][0]\n",
    "    smap_temp=result['SMAP_TEMP'][0]\n",
    "    smap_em=result['SMAP_EM'][0]\n",
    "    if smap_temp.shape[0]!=384 or smap_temp.shape[1]!=384:\n",
    "        smap_temp=zoom(smap_temp,(384/smap_temp.shape[0],384/smap_temp.shape[1]),order=1)\n",
    "    temp[:,:,cnt]=smap_temp\n",
    "    cnt=cnt+1\n",
    "np.save('temp.npy',temp)"
   ]
  },
  {
   "cell_type": "code",
   "execution_count": 40,
   "metadata": {},
   "outputs": [
    {
     "name": "stdout",
     "output_type": "stream",
     "text": [
      "[0.   0.25 0.5  0.75 1.  ]\n"
     ]
    }
   ],
   "source": [
    "print(np.linspace(0,1,5))"
   ]
  },
  {
   "cell_type": "code",
   "execution_count": 3,
   "metadata": {},
   "outputs": [],
   "source": [
    "data=np.load(r'D:\\Learning\\PHD1st\\magnetic_reconnecion\\data\\AIA2\\fit_points.npz')\n",
    "slice=np.load(r'D:\\Learning\\PHD1st\\magnetic_reconnecion\\data\\AIA2\\result_matrix.npy')\n",
    "a=data['fit_points']\n",
    "b=data['fit_points2']\n",
    "c=data['fit_points3']"
   ]
  },
  {
   "cell_type": "code",
   "execution_count": 4,
   "metadata": {},
   "outputs": [
    {
     "name": "stdout",
     "output_type": "stream",
     "text": [
      "5.149874071052627 4.8910559440820895 4.632244169727517\n",
      "4.891058061620744\n"
     ]
    }
   ],
   "source": [
    "#算一下距离，这里算的是平均距离，以像素为单位,时间间隔是12s*2=24s\n",
    "dist1=np.average(np.sqrt(np.diff(a[:,0])**2+np.diff(a[:,1])**2))\n",
    "dist2=np.average(np.sqrt(np.diff(b[:,0])**2+np.diff(b[:,1])**2))\n",
    "dist3=np.average(np.sqrt(np.diff(c[:,0])**2+np.diff(c[:,1])**2))\n",
    "print(dist1,dist2,dist3)\n",
    "avg_diff=np.average([dist1,dist2,dist3])\n",
    "print(avg_diff)\n",
    "#非常强，平均距离就是中间那条线的距离"
   ]
  },
  {
   "cell_type": "code",
   "execution_count": 5,
   "metadata": {},
   "outputs": [
    {
     "name": "stdout",
     "output_type": "stream",
     "text": [
      "离太阳的距离是 151963569604.3406 m\n",
      "一角秒对应多少千米是 736.7401757413695 km/arc\n",
      "分辨率是 0.600697994 arc/pixel\n",
      "尺寸是 2164.5785643123554 km/pixel\n"
     ]
    }
   ],
   "source": [
    "rsm=fits.open(r'D:\\Learning\\PHD1st\\magnetic_reconnecion\\data\\AIA2\\131\\aia.lev1_euv_12s.2024-06-18T210044Z.131.image_lev1.fits')\n",
    "dsun_obs=rsm[1].header['DSUN_OBS']\n",
    "resolution=rsm[1].header['CDELT2']\n",
    "#k是一角秒对应多少千米\n",
    "k=sin(np.pi/(3600*180))*dsun_obs/1000\n",
    "dist=k*resolution*avg_diff\n",
    "print('离太阳的距离是',dsun_obs,'m')\n",
    "print('一角秒对应多少千米是',k,'km/arc')\n",
    "print('分辨率是',resolution,'arc/pixel')\n",
    "print('尺寸是',dist,'km/pixel')"
   ]
  },
  {
   "cell_type": "markdown",
   "metadata": {},
   "source": [
    "6.46pixel_y/pixel_x\n"
   ]
  },
  {
   "cell_type": "code",
   "execution_count": 6,
   "metadata": {},
   "outputs": [
    {
     "name": "stdout",
     "output_type": "stream",
     "text": [
      "168.83712801636375\n",
      "2.1645785643123556\n"
     ]
    }
   ],
   "source": [
    "#接下来算一下纵坐标和横坐标的值\n",
    "#dist单位是km/pixel avg_dist单位是pixel,除1000变成兆米，乘78是一共多长\n",
    "print(dist*1e-3*78)\n",
    "trans_coeff=dist*1e-3\n",
    "print(trans_coeff)\n",
    "corr_y=np.zeros(6)\n",
    "for i in range(len(corr_y)):\n",
    "    corr_y[i]=25*(i+1)/trans_coeff\n",
    "#32是第一个点，对应时间21：07：08\n",
    "#98是第三十四个点，对应时间21：20：20\n",
    "#算横轴时间的对应坐标\n",
    "corr_x=np.zeros(4)\n",
    "for i in range(len(corr_x)):\n",
    "    corr_x[i]=(52+i*240)/24"
   ]
  },
  {
   "cell_type": "code",
   "execution_count": 8,
   "metadata": {},
   "outputs": [
    {
     "data": {
      "image/png": "[encoded data removed]",
      "text/plain": [
       "<Figure size 640x480 with 1 Axes>"
      ]
     },
     "metadata": {},
     "output_type": "display_data"
    }
   ],
   "source": [
    "plt.imshow(np.log10(slice),cmap='jet',origin='lower',vmin=6.0,vmax=7.3,aspect=0.5)\n",
    "coord=[(5.8,20),(7,30),(8.2,38),(10.2,50),(11,55),(12.2,62),(13,68)]\n",
    "x1,y1=zip(*coord)\n",
    "x1,y1=np.array(x1),np.array(y1)\n",
    "plt.scatter(x=x1,y=y1,c='red',marker='*',s=50)\n",
    "coeff1=np.polyfit(x1,y1,1)\n",
    "poly1=np.poly1d(coeff1)\n",
    "plt.text(10,36,'582.76km/s',fontsize=12,color='red')\n",
    "plt.yticks(ticks=corr_y,labels=['25','50','75','100','125','150'])\n",
    "plt.ylabel('Slice(Mm)')\n",
    "plt.xticks(ticks=corr_x,labels=['21:08','21:12','21:16','21:20'])\n",
    "plt.plot(x1,poly1(x1),c='red',linestyle='--')\n",
    "plt.tick_params(axis='both',direction='in')"
   ]
  },
  {
   "cell_type": "code",
   "execution_count": null,
   "metadata": {},
   "outputs": [],
   "source": []
  }
 ],
 "metadata": {
  "kernelspec": {
   "display_name": "sun",
   "language": "python",
   "name": "python3"
  },
  "language_info": {
   "codemirror_mode": {
    "name": "ipython",
    "version": 3
   },
   "file_extension": ".py",
   "mimetype": "text/x-python",
   "name": "python",
   "nbconvert_exporter": "python",
   "pygments_lexer": "ipython3",
   "version": "3.11.5"
  }
 },
 "nbformat": 4,
 "nbformat_minor": 2
}
