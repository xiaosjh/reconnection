{
 "cells": [
  {
   "cell_type": "markdown",
   "metadata": {},
   "source": [
    "重新学一下sunpy"
   ]
  },
  {
   "cell_type": "markdown",
   "metadata": {},
   "source": [
    "<font color='red'>单位</font>"
   ]
  },
  {
   "cell_type": "code",
   "execution_count": 1,
   "metadata": {},
   "outputs": [
    {
     "data": {
      "text/latex": [
       "$10 \\; \\mathrm{m}$"
      ],
      "text/plain": [
       "<Quantity 10. m>"
      ]
     },
     "execution_count": 1,
     "metadata": {},
     "output_type": "execute_result"
    }
   ],
   "source": [
    "import astropy.units as u\n",
    "length = 10 * u.meter\n",
    "length"
   ]
  },
  {
   "cell_type": "code",
   "execution_count": 3,
   "metadata": {},
   "outputs": [
    {
     "data": {
      "text/plain": [
       "10.0"
      ]
     },
     "execution_count": 3,
     "metadata": {},
     "output_type": "execute_result"
    }
   ],
   "source": [
    "length.value\n"
   ]
  },
  {
   "cell_type": "code",
   "execution_count": 4,
   "metadata": {},
   "outputs": [
    {
     "data": {
      "text/latex": [
       "$22.99999 \\; \\mathrm{km}$"
      ],
      "text/plain": [
       "<Quantity 22.99999 km>"
      ]
     },
     "execution_count": 4,
     "metadata": {},
     "output_type": "execute_result"
    }
   ],
   "source": [
    "distance_start = 10 * u.mm\n",
    "distance_end = 23 * u.km\n",
    "displacement = distance_end - distance_start\n",
    "displacement\n"
   ]
  },
  {
   "cell_type": "code",
   "execution_count": 5,
   "metadata": {},
   "outputs": [
    {
     "data": {
      "text/latex": [
       "$1.5333327 \\; \\mathrm{\\frac{km}{min}}$"
      ],
      "text/plain": [
       "<Quantity 1.53333267 km / min>"
      ]
     },
     "execution_count": 5,
     "metadata": {},
     "output_type": "execute_result"
    }
   ],
   "source": [
    "time = 15 * u.minute\n",
    "speed = displacement / time\n",
    "speed"
   ]
  },
  {
   "cell_type": "markdown",
   "metadata": {},
   "source": [
    "转换角秒到太阳上实际的长度"
   ]
  },
  {
   "cell_type": "code",
   "execution_count": 7,
   "metadata": {},
   "outputs": [
    {
     "name": "stdout",
     "output_type": "stream",
     "text": [
      "INFO: Apparent body location accounts for 495.82 seconds of light travel time [sunpy.coordinates.ephemeris]\n"
     ]
    },
    {
     "data": {
      "text/latex": [
       "$0.97134624 \\; \\mathrm{{}^{\\prime\\prime}}$"
      ],
      "text/plain": [
       "<Quantity 0.97134624 arcsec>"
      ]
     },
     "execution_count": 7,
     "metadata": {},
     "output_type": "execute_result"
    }
   ],
   "source": [
    "from sunpy.coordinates import get_earth\n",
    "from sunpy.coordinates.utils import solar_angle_equivalency\n",
    "length=700*u.km\n",
    "length.to(u.arcsec, equivalencies=solar_angle_equivalency(get_earth(\"2013-10-28\")))"
   ]
  },
  {
   "cell_type": "code",
   "execution_count": 8,
   "metadata": {},
   "outputs": [
    {
     "data": {
      "text/plain": [
       "700.0"
      ]
     },
     "execution_count": 8,
     "metadata": {},
     "output_type": "execute_result"
    }
   ],
   "source": [
    "length.to_value()\n"
   ]
  },
  {
   "cell_type": "code",
   "execution_count": 9,
   "metadata": {},
   "outputs": [
    {
     "data": {
      "text/plain": [
       "0.7000000000000001"
      ]
     },
     "execution_count": 9,
     "metadata": {},
     "output_type": "execute_result"
    }
   ],
   "source": [
    "length.to_value(u.Mm)"
   ]
  },
  {
   "cell_type": "markdown",
   "metadata": {},
   "source": [
    "<font color='red'>自定义函数的单位问题</font>"
   ]
  },
  {
   "cell_type": "code",
   "execution_count": 10,
   "metadata": {},
   "outputs": [
    {
     "data": {
      "text/latex": [
       "$1 \\; \\mathrm{\\frac{m}{min}}$"
      ],
      "text/plain": [
       "<Quantity 1. m / min>"
      ]
     },
     "execution_count": 10,
     "metadata": {},
     "output_type": "execute_result"
    }
   ],
   "source": [
    "@u.quantity_input\n",
    "def speed(length: u.m, time: u.s):\n",
    "    return length / time\n",
    "speed(1*u.m, 1*u.minute)"
   ]
  },
  {
   "cell_type": "code",
   "execution_count": 11,
   "metadata": {},
   "outputs": [
    {
     "data": {
      "text/latex": [
       "$0.016666667 \\; \\mathrm{\\frac{m}{s}}$"
      ],
      "text/plain": [
       "<Quantity 0.01666667 m / s>"
      ]
     },
     "execution_count": 11,
     "metadata": {},
     "output_type": "execute_result"
    }
   ],
   "source": [
    "@u.quantity_input\n",
    "def speed(length: u.m, time: u.s) -> u.m/u.s:\n",
    "    return length / time\n",
    "speed(1*u.m, 1*u.minute)"
   ]
  },
  {
   "cell_type": "code",
   "execution_count": 11,
   "metadata": {},
   "outputs": [],
   "source": [
    "from sunpy.net import Fido, attrs as a"
   ]
  },
  {
   "cell_type": "code",
   "execution_count": null,
   "metadata": {},
   "outputs": [],
   "source": [
    "print(Fido)"
   ]
  },
  {
   "cell_type": "code",
   "execution_count": 12,
   "metadata": {},
   "outputs": [
    {
     "data": {
      "text/plain": [
       "<sunpy.net.attrs.Time(2012-03-04 00:00:00.000, 2012-03-06 00:00:00.000)>"
      ]
     },
     "execution_count": 12,
     "metadata": {},
     "output_type": "execute_result"
    }
   ],
   "source": [
    "a.Time('2012/3/4', '2012/3/6')"
   ]
  },
  {
   "cell_type": "code",
   "execution_count": 14,
   "metadata": {},
   "outputs": [
    {
     "data": {
      "text/plain": [
       "<module 'sunpy.net.vso.attrs' from 'c:\\\\Users\\\\19671\\\\miniforge33\\\\Lib\\\\site-packages\\\\sunpy\\\\net\\\\vso\\\\attrs.py'>"
      ]
     },
     "execution_count": 14,
     "metadata": {},
     "output_type": "execute_result"
    }
   ],
   "source": [
    "a.vso"
   ]
  },
  {
   "cell_type": "code",
   "execution_count": 15,
   "metadata": {},
   "outputs": [
    {
     "name": "stdout",
     "output_type": "stream",
     "text": [
      "sunpy.net.attrs.Instrument\n",
      "\n",
      "Specifies the Instrument name for the search.\n",
      "\n",
      "       Attribute Name       ...\n",
      "--------------------------- ...\n",
      "adapt                       ...\n",
      "aia                         ...\n",
      "bcs                         ...\n",
      "be_continuum                ...\n",
      "be_halpha                   ...\n",
      "bigbear                     ...\n",
      "caii                        ...\n",
      "cds                         ...\n",
      "celias                      ...\n",
      "cerrotololo                 ...\n",
      "chp                         ...\n",
      "cook                        ...\n",
      "costep                      ...\n",
      "cp                          ...\n",
      "dpm                         ...\n",
      "eis                         ...\n",
      "eit                         ...\n",
      "elteide                     ...\n",
      "erne                        ...\n",
      "eui                         ...\n",
      "eve                         ...\n",
      "eve                         ...\n",
      "film                        ...\n",
      "five_12_channelmagnetograph ...\n",
      "foxsi                       ...\n",
      "gbm                         ...\n",
      "goes                        ...\n",
      "golf                        ...\n",
      "gong                        ...\n",
      "ha2                         ...\n",
      "hi_c                        ...\n",
      "hi_c21                      ...\n",
      "hmi                         ...\n",
      "hxeclipse                   ...\n",
      "hxt                         ...\n",
      "imax                        ...\n",
      "impact                      ...\n",
      "iris                        ...\n",
      "isoon                       ...\n",
      "iss                         ...\n",
      "ivm                         ...\n",
      "k_cor                       ...\n",
      "kpdc                        ...\n",
      "lasco                       ...\n",
      "learmonth                   ...\n",
      "longwave_lobe_06            ...\n",
      "longwave_lobe_07            ...\n",
      "longwave_slit_06            ...\n",
      "longwave_slit_07            ...\n",
      "lyra                        ...\n",
      "lyra                        ...\n",
      "maunaloa                    ...\n",
      "mdi                         ...\n",
      "mees                        ...\n",
      "mergedgong                  ...\n",
      "meudonspectroheliograph     ...\n",
      "mk4                         ...\n",
      "noaa_indices                ...\n",
      "noaa_predict                ...\n",
      "norh                        ...\n",
      "phoenix                     ...\n",
      "phoka                       ...\n",
      "plastic                     ...\n",
      "ptmc                        ...\n",
      "rhessi                      ...\n",
      "rhessi                      ...\n",
      "secchi                      ...\n",
      "shortwave_lobe_06           ...\n",
      "shortwave_lobe_07           ...\n",
      "shortwave_slit_06           ...\n",
      "shortwave_slit_07           ...\n",
      "six_0_ftshg                 ...\n",
      "sj                          ...\n",
      "solarftsspectrometer        ...\n",
      "solohi                      ...\n",
      "soon                        ...\n",
      "sot                         ...\n",
      "sp1                         ...\n",
      "sp2                         ...\n",
      "spectroheliograph           ...\n",
      "spectromagnetograph         ...\n",
      "spice                       ...\n",
      "srs_table                   ...\n",
      "sufi                        ...\n",
      "sumer                       ...\n",
      "sutri                       ...\n",
      "suvi                        ...\n",
      "suvi                        ...\n",
      "swan                        ...\n",
      "swap                        ...\n",
      "swaves                      ...\n",
      "sxt                         ...\n",
      "t1_halpha                   ...\n",
      "tm_1001                     ...\n",
      "tm_1010                     ...\n",
      "trace                       ...\n",
      "udaipur                     ...\n",
      "uvcs                        ...\n",
      "vault_1999                  ...\n",
      "vault_2002                  ...\n",
      "vault_2014                  ...\n",
      "virgo                       ...\n",
      "vsm                         ...\n",
      "wbs                         ...\n",
      "wispr                       ...\n",
      "x123                        ...\n",
      "xrs                         ...\n",
      "xrt                         ...\n"
     ]
    }
   ],
   "source": [
    "print(a.Instrument)"
   ]
  },
  {
   "cell_type": "code",
   "execution_count": 16,
   "metadata": {},
   "outputs": [],
   "source": [
    "result = Fido.search(a.Time('2012/3/4', '2012/3/6'), a.Instrument.lyra, a.Level.two) "
   ]
  },
  {
   "cell_type": "code",
   "execution_count": 17,
   "metadata": {},
   "outputs": [
    {
     "name": "stdout",
     "output_type": "stream",
     "text": [
      "Results from 1 Provider:\n",
      "\n",
      "3 Results from the LYRAClient:\n",
      "Source: http://proba2.oma.be/lyra/data/bsd\n",
      "\n",
      "       Start Time               End Time        Instrument ... Provider Level\n",
      "----------------------- ----------------------- ---------- ... -------- -----\n",
      "2012-03-04 00:00:00.000 2012-03-04 23:59:59.999       LYRA ...      ESA     2\n",
      "2012-03-05 00:00:00.000 2012-03-05 23:59:59.999       LYRA ...      ESA     2\n",
      "2012-03-06 00:00:00.000 2012-03-06 23:59:59.999       LYRA ...      ESA     2\n",
      "\n",
      "\n"
     ]
    }
   ],
   "source": [
    "print(result)"
   ]
  },
  {
   "cell_type": "code",
   "execution_count": 18,
   "metadata": {},
   "outputs": [
    {
     "data": {
      "text/html": [
       "Results from 1 Provider:</br></br>1 Results from the VSOClient:</br><div><i>VSOQueryResponseTable length=1</i>\n",
       "<table id=\"table2247979344736\" class=\"table-striped table-bordered table-condensed\">\n",
       "<thead><tr><th>Start Time</th><th>End Time</th><th>Source</th><th>Instrument</th><th>Wavelength</th><th>Provider</th><th>Physobs</th><th>Wavetype</th><th>Extent Width</th><th>Extent Length</th><th>Extent Type</th><th>Size</th></tr></thead>\n",
       "<thead><tr><th></th><th></th><th></th><th></th><th>Angstrom</th><th></th><th></th><th></th><th></th><th></th><th></th><th>Mibyte</th></tr></thead>\n",
       "<thead><tr><th>Time</th><th>Time</th><th>str3</th><th>str3</th><th>float64[2]</th><th>str4</th><th>str9</th><th>str6</th><th>str4</th><th>str4</th><th>str8</th><th>float64</th></tr></thead>\n",
       "<tr><td>2012-03-04 00:00:00.000</td><td>2012-03-04 00:00:01.000</td><td>SDO</td><td>AIA</td><td>171.0 .. 171.0</td><td>JSOC</td><td>intensity</td><td>NARROW</td><td>4096</td><td>4096</td><td>FULLDISK</td><td>64.64844</td></tr>\n",
       "</table></div></br>"
      ],
      "text/plain": [
       "<sunpy.net.fido_factory.UnifiedResponse object at 0x0000020B6857C7A0>\n",
       "Results from 1 Provider:\n",
       "\n",
       "1 Results from the VSOClient:\n",
       "Source: http://vso.stanford.edu/cgi-bin/search\n",
       "Total estimated size: 67.789 Mbyte\n",
       "\n",
       "       Start Time               End Time        Source ... Extent Type   Size  \n",
       "                                                       ...              Mibyte \n",
       "----------------------- ----------------------- ------ ... ----------- --------\n",
       "2012-03-04 00:00:00.000 2012-03-04 00:00:01.000    SDO ...    FULLDISK 64.64844\n"
      ]
     },
     "execution_count": 18,
     "metadata": {},
     "output_type": "execute_result"
    }
   ],
   "source": [
    "import astropy.units as u\n",
    "\n",
    "Fido.search(a.Time('2012/3/4', '2012/3/4'), a.Instrument.aia,\n",
    "            a.Wavelength(171*u.angstrom))  "
   ]
  },
  {
   "cell_type": "code",
   "execution_count": 19,
   "metadata": {},
   "outputs": [
    {
     "data": {
      "text/html": [
       "Results from 1 Provider:</br></br>13 Results from the VSOClient:</br><div><i>VSOQueryResponseTable length=13</i>\n",
       "<table id=\"table2248068318704\" class=\"table-striped table-bordered table-condensed\">\n",
       "<thead><tr><th>Start Time</th><th>End Time</th><th>Source</th><th>Instrument</th><th>Wavelength</th><th>Provider</th><th>Physobs</th><th>Wavetype</th><th>Extent Width</th><th>Extent Length</th><th>Extent Type</th><th>Size</th></tr></thead>\n",
       "<thead><tr><th></th><th></th><th></th><th></th><th>Angstrom</th><th></th><th></th><th></th><th></th><th></th><th></th><th>Mibyte</th></tr></thead>\n",
       "<thead><tr><th>Time</th><th>Time</th><th>str3</th><th>str3</th><th>float64[2]</th><th>str4</th><th>str9</th><th>str6</th><th>str4</th><th>str4</th><th>str8</th><th>float64</th></tr></thead>\n",
       "<tr><td>2012-03-04 00:00:00.000</td><td>2012-03-04 00:00:01.000</td><td>SDO</td><td>AIA</td><td>171.0 .. 171.0</td><td>JSOC</td><td>intensity</td><td>NARROW</td><td>4096</td><td>4096</td><td>FULLDISK</td><td>64.64844</td></tr>\n",
       "<tr><td>2012-03-04 02:00:00.000</td><td>2012-03-04 02:00:01.000</td><td>SDO</td><td>AIA</td><td>171.0 .. 171.0</td><td>JSOC</td><td>intensity</td><td>NARROW</td><td>4096</td><td>4096</td><td>FULLDISK</td><td>64.64844</td></tr>\n",
       "<tr><td>2012-03-04 04:00:00.000</td><td>2012-03-04 04:00:01.000</td><td>SDO</td><td>AIA</td><td>171.0 .. 171.0</td><td>JSOC</td><td>intensity</td><td>NARROW</td><td>4096</td><td>4096</td><td>FULLDISK</td><td>64.64844</td></tr>\n",
       "<tr><td>2012-03-04 06:00:00.000</td><td>2012-03-04 06:00:01.000</td><td>SDO</td><td>AIA</td><td>171.0 .. 171.0</td><td>JSOC</td><td>intensity</td><td>NARROW</td><td>4096</td><td>4096</td><td>FULLDISK</td><td>64.64844</td></tr>\n",
       "<tr><td>2012-03-04 08:00:00.000</td><td>2012-03-04 08:00:01.000</td><td>SDO</td><td>AIA</td><td>171.0 .. 171.0</td><td>JSOC</td><td>intensity</td><td>NARROW</td><td>4096</td><td>4096</td><td>FULLDISK</td><td>64.64844</td></tr>\n",
       "<tr><td>2012-03-04 10:00:00.000</td><td>2012-03-04 10:00:01.000</td><td>SDO</td><td>AIA</td><td>171.0 .. 171.0</td><td>JSOC</td><td>intensity</td><td>NARROW</td><td>4096</td><td>4096</td><td>FULLDISK</td><td>64.64844</td></tr>\n",
       "<tr><td>2012-03-04 12:00:00.000</td><td>2012-03-04 12:00:01.000</td><td>SDO</td><td>AIA</td><td>171.0 .. 171.0</td><td>JSOC</td><td>intensity</td><td>NARROW</td><td>4096</td><td>4096</td><td>FULLDISK</td><td>64.64844</td></tr>\n",
       "<tr><td>2012-03-04 14:00:00.000</td><td>2012-03-04 14:00:01.000</td><td>SDO</td><td>AIA</td><td>171.0 .. 171.0</td><td>JSOC</td><td>intensity</td><td>NARROW</td><td>4096</td><td>4096</td><td>FULLDISK</td><td>64.64844</td></tr>\n",
       "<tr><td>2012-03-04 16:00:00.000</td><td>2012-03-04 16:00:01.000</td><td>SDO</td><td>AIA</td><td>171.0 .. 171.0</td><td>JSOC</td><td>intensity</td><td>NARROW</td><td>4096</td><td>4096</td><td>FULLDISK</td><td>64.64844</td></tr>\n",
       "<tr><td>2012-03-04 18:00:00.000</td><td>2012-03-04 18:00:01.000</td><td>SDO</td><td>AIA</td><td>171.0 .. 171.0</td><td>JSOC</td><td>intensity</td><td>NARROW</td><td>4096</td><td>4096</td><td>FULLDISK</td><td>64.64844</td></tr>\n",
       "<tr><td>2012-03-04 20:00:00.000</td><td>2012-03-04 20:00:01.000</td><td>SDO</td><td>AIA</td><td>171.0 .. 171.0</td><td>JSOC</td><td>intensity</td><td>NARROW</td><td>4096</td><td>4096</td><td>FULLDISK</td><td>64.64844</td></tr>\n",
       "<tr><td>2012-03-04 22:00:00.000</td><td>2012-03-04 22:00:01.000</td><td>SDO</td><td>AIA</td><td>171.0 .. 171.0</td><td>JSOC</td><td>intensity</td><td>NARROW</td><td>4096</td><td>4096</td><td>FULLDISK</td><td>64.64844</td></tr>\n",
       "<tr><td>2012-03-05 00:00:00.000</td><td>2012-03-05 00:00:01.000</td><td>SDO</td><td>AIA</td><td>171.0 .. 171.0</td><td>JSOC</td><td>intensity</td><td>NARROW</td><td>4096</td><td>4096</td><td>FULLDISK</td><td>64.64844</td></tr>\n",
       "</table></div></br>"
      ],
      "text/plain": [
       "<sunpy.net.fido_factory.UnifiedResponse object at 0x0000020B693E7200>\n",
       "Results from 1 Provider:\n",
       "\n",
       "13 Results from the VSOClient:\n",
       "Source: http://vso.stanford.edu/cgi-bin/search\n",
       "Total estimated size: 881.254 Mbyte\n",
       "\n",
       "       Start Time               End Time        Source ... Extent Type   Size  \n",
       "                                                       ...              Mibyte \n",
       "----------------------- ----------------------- ------ ... ----------- --------\n",
       "2012-03-04 00:00:00.000 2012-03-04 00:00:01.000    SDO ...    FULLDISK 64.64844\n",
       "2012-03-04 02:00:00.000 2012-03-04 02:00:01.000    SDO ...    FULLDISK 64.64844\n",
       "2012-03-04 04:00:00.000 2012-03-04 04:00:01.000    SDO ...    FULLDISK 64.64844\n",
       "2012-03-04 06:00:00.000 2012-03-04 06:00:01.000    SDO ...    FULLDISK 64.64844\n",
       "2012-03-04 08:00:00.000 2012-03-04 08:00:01.000    SDO ...    FULLDISK 64.64844\n",
       "2012-03-04 10:00:00.000 2012-03-04 10:00:01.000    SDO ...    FULLDISK 64.64844\n",
       "2012-03-04 12:00:00.000 2012-03-04 12:00:01.000    SDO ...    FULLDISK 64.64844\n",
       "2012-03-04 14:00:00.000 2012-03-04 14:00:01.000    SDO ...    FULLDISK 64.64844\n",
       "2012-03-04 16:00:00.000 2012-03-04 16:00:01.000    SDO ...    FULLDISK 64.64844\n",
       "2012-03-04 18:00:00.000 2012-03-04 18:00:01.000    SDO ...    FULLDISK 64.64844\n",
       "2012-03-04 20:00:00.000 2012-03-04 20:00:01.000    SDO ...    FULLDISK 64.64844\n",
       "2012-03-04 22:00:00.000 2012-03-04 22:00:01.000    SDO ...    FULLDISK 64.64844\n",
       "2012-03-05 00:00:00.000 2012-03-05 00:00:01.000    SDO ...    FULLDISK 64.64844\n"
      ]
     },
     "execution_count": 19,
     "metadata": {},
     "output_type": "execute_result"
    }
   ],
   "source": [
    "Fido.search(a.Time('2012/3/4', '2012/3/5'), a.Instrument.aia,\n",
    "            a.Wavelength(171*u.angstrom), a.Sample(120*u.minute))  "
   ]
  },
  {
   "cell_type": "code",
   "execution_count": 20,
   "metadata": {},
   "outputs": [
    {
     "data": {
      "text/html": [
       "Results from 2 Providers:</br></br>2 Results from the LYRAClient:</br><div><i>QueryResponse length=2</i>\n",
       "<table id=\"table2248068372320\" class=\"table-striped table-bordered table-condensed\">\n",
       "<thead><tr><th>Start Time</th><th>End Time</th><th>Instrument</th><th>Physobs</th><th>Source</th><th>Provider</th><th>Level</th></tr></thead>\n",
       "<thead><tr><th>Time</th><th>Time</th><th>str4</th><th>str10</th><th>str6</th><th>str3</th><th>int32</th></tr></thead>\n",
       "<tr><td>2012-01-01 00:00:00.000</td><td>2012-01-01 23:59:59.999</td><td>LYRA</td><td>irradiance</td><td>PROBA2</td><td>ESA</td><td>2</td></tr>\n",
       "<tr><td>2012-01-02 00:00:00.000</td><td>2012-01-02 23:59:59.999</td><td>LYRA</td><td>irradiance</td><td>PROBA2</td><td>ESA</td><td>2</td></tr>\n",
       "</table></div></br>50 Results from the VSOClient:</br><div><i>VSOQueryResponseTable length=50</i>\n",
       "<table id=\"table2248073873600\" class=\"table-striped table-bordered table-condensed\">\n",
       "<thead><tr><th>Start Time</th><th>End Time</th><th>Source</th><th>Instrument</th><th>Wavelength</th><th>Provider</th><th>Physobs</th><th>Extent Type</th><th>Size</th></tr></thead>\n",
       "<thead><tr><th></th><th></th><th></th><th></th><th>Angstrom</th><th></th><th></th><th></th><th>Mibyte</th></tr></thead>\n",
       "<thead><tr><th>Time</th><th>Time</th><th>str3</th><th>str3</th><th>float64[2]</th><th>str4</th><th>str10</th><th>str8</th><th>float64</th></tr></thead>\n",
       "<tr><td>2012-01-01 00:00:00.000</td><td>2012-01-01 01:00:00.000</td><td>SDO</td><td>EVE</td><td>93.0 .. 1033.0</td><td>LASP</td><td>irradiance</td><td>FULLDISK</td><td>-0.00098</td></tr>\n",
       "<tr><td>2012-01-01 00:00:00.000</td><td>2012-01-01 01:00:00.000</td><td>SDO</td><td>EVE</td><td>60.0 .. 1060.0</td><td>LASP</td><td>irradiance</td><td>FULLDISK</td><td>-0.00098</td></tr>\n",
       "<tr><td>2012-01-01 01:00:00.000</td><td>2012-01-01 02:00:00.000</td><td>SDO</td><td>EVE</td><td>93.0 .. 1033.0</td><td>LASP</td><td>irradiance</td><td>FULLDISK</td><td>-0.00098</td></tr>\n",
       "<tr><td>2012-01-01 01:00:00.000</td><td>2012-01-01 02:00:00.000</td><td>SDO</td><td>EVE</td><td>60.0 .. 1060.0</td><td>LASP</td><td>irradiance</td><td>FULLDISK</td><td>-0.00098</td></tr>\n",
       "<tr><td>2012-01-01 02:00:00.000</td><td>2012-01-01 03:00:00.000</td><td>SDO</td><td>EVE</td><td>93.0 .. 1033.0</td><td>LASP</td><td>irradiance</td><td>FULLDISK</td><td>-0.00098</td></tr>\n",
       "<tr><td>2012-01-01 02:00:00.000</td><td>2012-01-01 03:00:00.000</td><td>SDO</td><td>EVE</td><td>60.0 .. 1060.0</td><td>LASP</td><td>irradiance</td><td>FULLDISK</td><td>-0.00098</td></tr>\n",
       "<tr><td>2012-01-01 03:00:00.000</td><td>2012-01-01 04:00:00.000</td><td>SDO</td><td>EVE</td><td>93.0 .. 1033.0</td><td>LASP</td><td>irradiance</td><td>FULLDISK</td><td>-0.00098</td></tr>\n",
       "<tr><td>2012-01-01 03:00:00.000</td><td>2012-01-01 04:00:00.000</td><td>SDO</td><td>EVE</td><td>60.0 .. 1060.0</td><td>LASP</td><td>irradiance</td><td>FULLDISK</td><td>-0.00098</td></tr>\n",
       "<tr><td>2012-01-01 04:00:00.000</td><td>2012-01-01 05:00:00.000</td><td>SDO</td><td>EVE</td><td>93.0 .. 1033.0</td><td>LASP</td><td>irradiance</td><td>FULLDISK</td><td>-0.00098</td></tr>\n",
       "<tr><td>...</td><td>...</td><td>...</td><td>...</td><td>...</td><td>...</td><td>...</td><td>...</td><td>...</td></tr>\n",
       "<tr><td>2012-01-01 20:00:00.000</td><td>2012-01-01 21:00:00.000</td><td>SDO</td><td>EVE</td><td>60.0 .. 1060.0</td><td>LASP</td><td>irradiance</td><td>FULLDISK</td><td>-0.00098</td></tr>\n",
       "<tr><td>2012-01-01 21:00:00.000</td><td>2012-01-01 22:00:00.000</td><td>SDO</td><td>EVE</td><td>93.0 .. 1033.0</td><td>LASP</td><td>irradiance</td><td>FULLDISK</td><td>-0.00098</td></tr>\n",
       "<tr><td>2012-01-01 21:00:00.000</td><td>2012-01-01 22:00:00.000</td><td>SDO</td><td>EVE</td><td>60.0 .. 1060.0</td><td>LASP</td><td>irradiance</td><td>FULLDISK</td><td>-0.00098</td></tr>\n",
       "<tr><td>2012-01-01 22:00:00.000</td><td>2012-01-01 23:00:00.000</td><td>SDO</td><td>EVE</td><td>93.0 .. 1033.0</td><td>LASP</td><td>irradiance</td><td>FULLDISK</td><td>-0.00098</td></tr>\n",
       "<tr><td>2012-01-01 22:00:00.000</td><td>2012-01-01 23:00:00.000</td><td>SDO</td><td>EVE</td><td>60.0 .. 1060.0</td><td>LASP</td><td>irradiance</td><td>FULLDISK</td><td>-0.00098</td></tr>\n",
       "<tr><td>2012-01-01 23:00:00.000</td><td>2012-01-02 00:00:00.000</td><td>SDO</td><td>EVE</td><td>93.0 .. 1033.0</td><td>LASP</td><td>irradiance</td><td>FULLDISK</td><td>-0.00098</td></tr>\n",
       "<tr><td>2012-01-01 23:00:00.000</td><td>2012-01-02 00:00:00.000</td><td>SDO</td><td>EVE</td><td>60.0 .. 1060.0</td><td>LASP</td><td>irradiance</td><td>FULLDISK</td><td>-0.00098</td></tr>\n",
       "<tr><td>2012-01-02 00:00:00.000</td><td>2012-01-02 01:00:00.000</td><td>SDO</td><td>EVE</td><td>93.0 .. 1033.0</td><td>LASP</td><td>irradiance</td><td>FULLDISK</td><td>-0.00098</td></tr>\n",
       "<tr><td>2012-01-02 00:00:00.000</td><td>2012-01-02 01:00:00.000</td><td>SDO</td><td>EVE</td><td>60.0 .. 1060.0</td><td>LASP</td><td>irradiance</td><td>FULLDISK</td><td>-0.00098</td></tr>\n",
       "</table></div></br>"
      ],
      "text/plain": [
       "<sunpy.net.fido_factory.UnifiedResponse object at 0x0000020B6B500B00>\n",
       "Results from 2 Providers:\n",
       "\n",
       "2 Results from the LYRAClient:\n",
       "Source: http://proba2.oma.be/lyra/data/bsd\n",
       "\n",
       "       Start Time               End Time        Instrument ... Provider Level\n",
       "----------------------- ----------------------- ---------- ... -------- -----\n",
       "2012-01-01 00:00:00.000 2012-01-01 23:59:59.999       LYRA ...      ESA     2\n",
       "2012-01-02 00:00:00.000 2012-01-02 23:59:59.999       LYRA ...      ESA     2\n",
       "\n",
       "50 Results from the VSOClient:\n",
       "Source: http://vso.stanford.edu/cgi-bin/search\n",
       "\n",
       "       Start Time               End Time        Source ... Extent Type   Size  \n",
       "                                                       ...              Mibyte \n",
       "----------------------- ----------------------- ------ ... ----------- --------\n",
       "2012-01-01 00:00:00.000 2012-01-01 01:00:00.000    SDO ...    FULLDISK -0.00098\n",
       "2012-01-01 00:00:00.000 2012-01-01 01:00:00.000    SDO ...    FULLDISK -0.00098\n",
       "2012-01-01 01:00:00.000 2012-01-01 02:00:00.000    SDO ...    FULLDISK -0.00098\n",
       "2012-01-01 01:00:00.000 2012-01-01 02:00:00.000    SDO ...    FULLDISK -0.00098\n",
       "2012-01-01 02:00:00.000 2012-01-01 03:00:00.000    SDO ...    FULLDISK -0.00098\n",
       "2012-01-01 02:00:00.000 2012-01-01 03:00:00.000    SDO ...    FULLDISK -0.00098\n",
       "2012-01-01 03:00:00.000 2012-01-01 04:00:00.000    SDO ...    FULLDISK -0.00098\n",
       "2012-01-01 03:00:00.000 2012-01-01 04:00:00.000    SDO ...    FULLDISK -0.00098\n",
       "2012-01-01 04:00:00.000 2012-01-01 05:00:00.000    SDO ...    FULLDISK -0.00098\n",
       "                    ...                     ...    ... ...         ...      ...\n",
       "2012-01-01 20:00:00.000 2012-01-01 21:00:00.000    SDO ...    FULLDISK -0.00098\n",
       "2012-01-01 20:00:00.000 2012-01-01 21:00:00.000    SDO ...    FULLDISK -0.00098\n",
       "2012-01-01 21:00:00.000 2012-01-01 22:00:00.000    SDO ...    FULLDISK -0.00098\n",
       "2012-01-01 21:00:00.000 2012-01-01 22:00:00.000    SDO ...    FULLDISK -0.00098\n",
       "2012-01-01 22:00:00.000 2012-01-01 23:00:00.000    SDO ...    FULLDISK -0.00098\n",
       "2012-01-01 22:00:00.000 2012-01-01 23:00:00.000    SDO ...    FULLDISK -0.00098\n",
       "2012-01-01 23:00:00.000 2012-01-02 00:00:00.000    SDO ...    FULLDISK -0.00098\n",
       "2012-01-01 23:00:00.000 2012-01-02 00:00:00.000    SDO ...    FULLDISK -0.00098\n",
       "2012-01-02 00:00:00.000 2012-01-02 01:00:00.000    SDO ...    FULLDISK -0.00098\n",
       "2012-01-02 00:00:00.000 2012-01-02 01:00:00.000    SDO ...    FULLDISK -0.00098\n",
       "Length = 50 rows\n"
      ]
     },
     "execution_count": 20,
     "metadata": {},
     "output_type": "execute_result"
    }
   ],
   "source": [
    "results = Fido.search(a.Time(\"2012/1/1\", \"2012/1/2\"), a.Level.two,\n",
    "                      a.Instrument.lyra | a.Instrument.eve)  \n",
    "results  "
   ]
  },
  {
   "cell_type": "code",
   "execution_count": 21,
   "metadata": {},
   "outputs": [
    {
     "data": {
      "text/html": [
       "<div><i>QueryResponse length=2</i>\n",
       "<table id=\"table2248073610928\" class=\"table-striped table-bordered table-condensed\">\n",
       "<thead><tr><th>Start Time</th><th>End Time</th><th>Instrument</th><th>Physobs</th><th>Source</th><th>Provider</th><th>Level</th></tr></thead>\n",
       "<thead><tr><th>Time</th><th>Time</th><th>str4</th><th>str10</th><th>str6</th><th>str3</th><th>int32</th></tr></thead>\n",
       "<tr><td>2012-01-01 00:00:00.000</td><td>2012-01-01 23:59:59.999</td><td>LYRA</td><td>irradiance</td><td>PROBA2</td><td>ESA</td><td>2</td></tr>\n",
       "<tr><td>2012-01-02 00:00:00.000</td><td>2012-01-02 23:59:59.999</td><td>LYRA</td><td>irradiance</td><td>PROBA2</td><td>ESA</td><td>2</td></tr>\n",
       "</table></div>"
      ],
      "text/plain": [
       "<sunpy.net.dataretriever.client.QueryResponse object at 0x0000020B6BA11AC0>\n",
       "       Start Time               End Time        Instrument ... Provider Level\n",
       "----------------------- ----------------------- ---------- ... -------- -----\n",
       "2012-01-01 00:00:00.000 2012-01-01 23:59:59.999       LYRA ...      ESA     2\n",
       "2012-01-02 00:00:00.000 2012-01-02 23:59:59.999       LYRA ...      ESA     2"
      ]
     },
     "execution_count": 21,
     "metadata": {},
     "output_type": "execute_result"
    }
   ],
   "source": [
    "results[0, :]  "
   ]
  },
  {
   "cell_type": "code",
   "execution_count": 25,
   "metadata": {},
   "outputs": [
    {
     "data": {
      "text/html": [
       "<div><i>QueryResponse length=2</i>\n",
       "<table id=\"table2248067362176\" class=\"table-striped table-bordered table-condensed\">\n",
       "<thead><tr><th>Start Time</th><th>End Time</th><th>Instrument</th><th>Physobs</th><th>Source</th><th>Provider</th><th>Level</th></tr></thead>\n",
       "<thead><tr><th>Time</th><th>Time</th><th>str4</th><th>str10</th><th>str6</th><th>str3</th><th>int32</th></tr></thead>\n",
       "<tr><td>2012-01-01 00:00:00.000</td><td>2012-01-01 23:59:59.999</td><td>LYRA</td><td>irradiance</td><td>PROBA2</td><td>ESA</td><td>2</td></tr>\n",
       "<tr><td>2012-01-02 00:00:00.000</td><td>2012-01-02 23:59:59.999</td><td>LYRA</td><td>irradiance</td><td>PROBA2</td><td>ESA</td><td>2</td></tr>\n",
       "</table></div>"
      ],
      "text/plain": [
       "<sunpy.net.dataretriever.client.QueryResponse object at 0x0000020B6B50CA40>\n",
       "       Start Time               End Time        Instrument ... Provider Level\n",
       "----------------------- ----------------------- ---------- ... -------- -----\n",
       "2012-01-01 00:00:00.000 2012-01-01 23:59:59.999       LYRA ...      ESA     2\n",
       "2012-01-02 00:00:00.000 2012-01-02 23:59:59.999       LYRA ...      ESA     2"
      ]
     },
     "execution_count": 25,
     "metadata": {},
     "output_type": "execute_result"
    }
   ],
   "source": [
    "results[\"lyra\"]  "
   ]
  },
  {
   "cell_type": "code",
   "execution_count": 26,
   "metadata": {},
   "outputs": [
    {
     "data": {
      "text/html": [
       "Results from 2 Providers:</br></br>41 Results from the VSOClient:</br><div><i>VSOQueryResponseTable length=41</i>\n",
       "<table id=\"table2248067713840\" class=\"table-striped table-bordered table-condensed\">\n",
       "<thead><tr><th>Start Time</th><th>End Time</th><th>Source</th><th>Instrument</th><th>Wavelength</th><th>Provider</th><th>Physobs</th><th>Wavetype</th><th>Extent Width</th><th>Extent Length</th><th>Extent Type</th><th>Size</th></tr></thead>\n",
       "<thead><tr><th></th><th></th><th></th><th></th><th>Angstrom</th><th></th><th></th><th></th><th></th><th></th><th></th><th>Mibyte</th></tr></thead>\n",
       "<thead><tr><th>Time</th><th>Time</th><th>str3</th><th>str3</th><th>float64[2]</th><th>str4</th><th>str9</th><th>str6</th><th>str4</th><th>str4</th><th>str8</th><th>float64</th></tr></thead>\n",
       "<tr><td>2020-01-01 00:00:00.000</td><td>2020-01-01 00:00:01.000</td><td>SDO</td><td>AIA</td><td>335.0 .. 335.0</td><td>JSOC</td><td>intensity</td><td>NARROW</td><td>4096</td><td>4096</td><td>FULLDISK</td><td>64.64844</td></tr>\n",
       "<tr><td>2020-01-01 00:00:04.000</td><td>2020-01-01 00:00:05.000</td><td>SDO</td><td>AIA</td><td>193.0 .. 193.0</td><td>JSOC</td><td>intensity</td><td>NARROW</td><td>4096</td><td>4096</td><td>FULLDISK</td><td>64.64844</td></tr>\n",
       "<tr><td>2020-01-01 00:00:05.000</td><td>2020-01-01 00:00:06.000</td><td>SDO</td><td>AIA</td><td>304.0 .. 304.0</td><td>JSOC</td><td>intensity</td><td>NARROW</td><td>4096</td><td>4096</td><td>FULLDISK</td><td>64.64844</td></tr>\n",
       "<tr><td>2020-01-01 00:00:05.000</td><td>2020-01-01 00:00:06.000</td><td>SDO</td><td>AIA</td><td>4500.0 .. 4500.0</td><td>JSOC</td><td>intensity</td><td>NARROW</td><td>4096</td><td>4096</td><td>FULLDISK</td><td>64.64844</td></tr>\n",
       "<tr><td>2020-01-01 00:00:06.000</td><td>2020-01-01 00:00:07.000</td><td>SDO</td><td>AIA</td><td>131.0 .. 131.0</td><td>JSOC</td><td>intensity</td><td>NARROW</td><td>4096</td><td>4096</td><td>FULLDISK</td><td>64.64844</td></tr>\n",
       "<tr><td>2020-01-01 00:00:09.000</td><td>2020-01-01 00:00:10.000</td><td>SDO</td><td>AIA</td><td>171.0 .. 171.0</td><td>JSOC</td><td>intensity</td><td>NARROW</td><td>4096</td><td>4096</td><td>FULLDISK</td><td>64.64844</td></tr>\n",
       "<tr><td>2020-01-01 00:00:09.000</td><td>2020-01-01 00:00:10.000</td><td>SDO</td><td>AIA</td><td>211.0 .. 211.0</td><td>JSOC</td><td>intensity</td><td>NARROW</td><td>4096</td><td>4096</td><td>FULLDISK</td><td>64.64844</td></tr>\n",
       "<tr><td>2020-01-01 00:00:11.000</td><td>2020-01-01 00:00:12.000</td><td>SDO</td><td>AIA</td><td>94.0 .. 94.0</td><td>JSOC</td><td>intensity</td><td>NARROW</td><td>4096</td><td>4096</td><td>FULLDISK</td><td>64.64844</td></tr>\n",
       "<tr><td>2020-01-01 00:00:12.000</td><td>2020-01-01 00:00:13.000</td><td>SDO</td><td>AIA</td><td>335.0 .. 335.0</td><td>JSOC</td><td>intensity</td><td>NARROW</td><td>4096</td><td>4096</td><td>FULLDISK</td><td>64.64844</td></tr>\n",
       "<tr><td>...</td><td>...</td><td>...</td><td>...</td><td>...</td><td>...</td><td>...</td><td>...</td><td>...</td><td>...</td><td>...</td><td>...</td></tr>\n",
       "<tr><td>2020-01-01 00:00:48.000</td><td>2020-01-01 00:00:49.000</td><td>SDO</td><td>AIA</td><td>335.0 .. 335.0</td><td>JSOC</td><td>intensity</td><td>NARROW</td><td>4096</td><td>4096</td><td>FULLDISK</td><td>64.64844</td></tr>\n",
       "<tr><td>2020-01-01 00:00:52.000</td><td>2020-01-01 00:00:53.000</td><td>SDO</td><td>AIA</td><td>1700.0 .. 1700.0</td><td>JSOC</td><td>intensity</td><td>NARROW</td><td>4096</td><td>4096</td><td>FULLDISK</td><td>64.64844</td></tr>\n",
       "<tr><td>2020-01-01 00:00:52.000</td><td>2020-01-01 00:00:53.000</td><td>SDO</td><td>AIA</td><td>193.0 .. 193.0</td><td>JSOC</td><td>intensity</td><td>NARROW</td><td>4096</td><td>4096</td><td>FULLDISK</td><td>64.64844</td></tr>\n",
       "<tr><td>2020-01-01 00:00:53.000</td><td>2020-01-01 00:00:54.000</td><td>SDO</td><td>AIA</td><td>304.0 .. 304.0</td><td>JSOC</td><td>intensity</td><td>NARROW</td><td>4096</td><td>4096</td><td>FULLDISK</td><td>64.64844</td></tr>\n",
       "<tr><td>2020-01-01 00:00:54.000</td><td>2020-01-01 00:00:55.000</td><td>SDO</td><td>AIA</td><td>131.0 .. 131.0</td><td>JSOC</td><td>intensity</td><td>NARROW</td><td>4096</td><td>4096</td><td>FULLDISK</td><td>64.64844</td></tr>\n",
       "<tr><td>2020-01-01 00:00:57.000</td><td>2020-01-01 00:00:58.000</td><td>SDO</td><td>AIA</td><td>171.0 .. 171.0</td><td>JSOC</td><td>intensity</td><td>NARROW</td><td>4096</td><td>4096</td><td>FULLDISK</td><td>64.64844</td></tr>\n",
       "<tr><td>2020-01-01 00:00:57.000</td><td>2020-01-01 00:00:58.000</td><td>SDO</td><td>AIA</td><td>211.0 .. 211.0</td><td>JSOC</td><td>intensity</td><td>NARROW</td><td>4096</td><td>4096</td><td>FULLDISK</td><td>64.64844</td></tr>\n",
       "<tr><td>2020-01-01 00:00:59.000</td><td>2020-01-01 00:01:00.000</td><td>SDO</td><td>AIA</td><td>94.0 .. 94.0</td><td>JSOC</td><td>intensity</td><td>NARROW</td><td>4096</td><td>4096</td><td>FULLDISK</td><td>64.64844</td></tr>\n",
       "<tr><td>2020-01-01 00:01:00.000</td><td>2020-01-01 00:01:01.000</td><td>SDO</td><td>AIA</td><td>335.0 .. 335.0</td><td>JSOC</td><td>intensity</td><td>NARROW</td><td>4096</td><td>4096</td><td>FULLDISK</td><td>64.64844</td></tr>\n",
       "</table></div></br>3 Results from the VSOClient:</br><div><i>VSOQueryResponseTable length=3</i>\n",
       "<table id=\"table2248073622352\" class=\"table-striped table-bordered table-condensed\">\n",
       "<thead><tr><th>Start Time</th><th>End Time</th><th>Source</th><th>Instrument</th><th>Wavelength</th><th>Provider</th><th>Physobs</th><th>Wavetype</th><th>Extent Width</th><th>Extent Length</th><th>Extent Type</th><th>Size</th></tr></thead>\n",
       "<thead><tr><th></th><th></th><th></th><th></th><th>Angstrom</th><th></th><th></th><th></th><th></th><th></th><th></th><th>Mibyte</th></tr></thead>\n",
       "<thead><tr><th>Time</th><th>Time</th><th>str3</th><th>str3</th><th>float64[2]</th><th>str4</th><th>str18</th><th>str6</th><th>str4</th><th>str4</th><th>str8</th><th>float64</th></tr></thead>\n",
       "<tr><td>2020-01-01 00:00:22.000</td><td>2020-01-01 00:00:23.000</td><td>SDO</td><td>HMI</td><td>6173.0 .. 6174.0</td><td>JSOC</td><td>intensity</td><td>NARROW</td><td>4096</td><td>4096</td><td>FULLDISK</td><td>-0.00098</td></tr>\n",
       "<tr><td>2020-01-01 00:00:22.000</td><td>2020-01-01 00:00:23.000</td><td>SDO</td><td>HMI</td><td>6173.0 .. 6174.0</td><td>JSOC</td><td>LOS_magnetic_field</td><td>NARROW</td><td>4096</td><td>4096</td><td>FULLDISK</td><td>-0.00098</td></tr>\n",
       "<tr><td>2020-01-01 00:00:22.000</td><td>2020-01-01 00:00:23.000</td><td>SDO</td><td>HMI</td><td>6173.0 .. 6174.0</td><td>JSOC</td><td>LOS_velocity</td><td>NARROW</td><td>4096</td><td>4096</td><td>FULLDISK</td><td>-0.00098</td></tr>\n",
       "</table></div></br>"
      ],
      "text/plain": [
       "<sunpy.net.fido_factory.UnifiedResponse object at 0x0000020B6B522C30>\n",
       "Results from 2 Providers:\n",
       "\n",
       "41 Results from the VSOClient:\n",
       "Source: http://vso.stanford.edu/cgi-bin/search\n",
       "Total estimated size: 2.779 Gbyte\n",
       "\n",
       "       Start Time               End Time        Source ... Extent Type   Size  \n",
       "                                                       ...              Mibyte \n",
       "----------------------- ----------------------- ------ ... ----------- --------\n",
       "2020-01-01 00:00:00.000 2020-01-01 00:00:01.000    SDO ...    FULLDISK 64.64844\n",
       "2020-01-01 00:00:04.000 2020-01-01 00:00:05.000    SDO ...    FULLDISK 64.64844\n",
       "2020-01-01 00:00:05.000 2020-01-01 00:00:06.000    SDO ...    FULLDISK 64.64844\n",
       "2020-01-01 00:00:05.000 2020-01-01 00:00:06.000    SDO ...    FULLDISK 64.64844\n",
       "2020-01-01 00:00:06.000 2020-01-01 00:00:07.000    SDO ...    FULLDISK 64.64844\n",
       "2020-01-01 00:00:09.000 2020-01-01 00:00:10.000    SDO ...    FULLDISK 64.64844\n",
       "2020-01-01 00:00:09.000 2020-01-01 00:00:10.000    SDO ...    FULLDISK 64.64844\n",
       "2020-01-01 00:00:11.000 2020-01-01 00:00:12.000    SDO ...    FULLDISK 64.64844\n",
       "2020-01-01 00:00:12.000 2020-01-01 00:00:13.000    SDO ...    FULLDISK 64.64844\n",
       "                    ...                     ...    ... ...         ...      ...\n",
       "2020-01-01 00:00:47.000 2020-01-01 00:00:48.000    SDO ...    FULLDISK 64.64844\n",
       "2020-01-01 00:00:48.000 2020-01-01 00:00:49.000    SDO ...    FULLDISK 64.64844\n",
       "2020-01-01 00:00:52.000 2020-01-01 00:00:53.000    SDO ...    FULLDISK 64.64844\n",
       "2020-01-01 00:00:52.000 2020-01-01 00:00:53.000    SDO ...    FULLDISK 64.64844\n",
       "2020-01-01 00:00:53.000 2020-01-01 00:00:54.000    SDO ...    FULLDISK 64.64844\n",
       "2020-01-01 00:00:54.000 2020-01-01 00:00:55.000    SDO ...    FULLDISK 64.64844\n",
       "2020-01-01 00:00:57.000 2020-01-01 00:00:58.000    SDO ...    FULLDISK 64.64844\n",
       "2020-01-01 00:00:57.000 2020-01-01 00:00:58.000    SDO ...    FULLDISK 64.64844\n",
       "2020-01-01 00:00:59.000 2020-01-01 00:01:00.000    SDO ...    FULLDISK 64.64844\n",
       "2020-01-01 00:01:00.000 2020-01-01 00:01:01.000    SDO ...    FULLDISK 64.64844\n",
       "Length = 41 rows\n",
       "\n",
       "3 Results from the VSOClient:\n",
       "Source: http://vso.stanford.edu/cgi-bin/search\n",
       "\n",
       "       Start Time               End Time        Source ... Extent Type   Size  \n",
       "                                                       ...              Mibyte \n",
       "----------------------- ----------------------- ------ ... ----------- --------\n",
       "2020-01-01 00:00:22.000 2020-01-01 00:00:23.000    SDO ...    FULLDISK -0.00098\n",
       "2020-01-01 00:00:22.000 2020-01-01 00:00:23.000    SDO ...    FULLDISK -0.00098\n",
       "2020-01-01 00:00:22.000 2020-01-01 00:00:23.000    SDO ...    FULLDISK -0.00098\n"
      ]
     },
     "execution_count": 26,
     "metadata": {},
     "output_type": "execute_result"
    }
   ],
   "source": [
    "results = Fido.search(a.Time(\"2020/01/01\", \"2020/01/01 00:01\"), a.Instrument.aia | a.Instrument.hmi)  \n",
    "results  "
   ]
  },
  {
   "cell_type": "code",
   "execution_count": 31,
   "metadata": {},
   "outputs": [
    {
     "data": {
      "text/plain": [
       "['End Time',\n",
       " 'Extent Length',\n",
       " 'Extent Type',\n",
       " 'Extent Width',\n",
       " 'Instrument',\n",
       " 'Physobs',\n",
       " 'Provider',\n",
       " 'Size',\n",
       " 'Source',\n",
       " 'Start Time',\n",
       " 'Wavelength',\n",
       " 'Wavetype',\n",
       " 'fileid']"
      ]
     },
     "execution_count": 31,
     "metadata": {},
     "output_type": "execute_result"
    }
   ],
   "source": [
    "results.all_colnames  "
   ]
  },
  {
   "cell_type": "code",
   "execution_count": 32,
   "metadata": {},
   "outputs": [
    {
     "data": {
      "text/html": [
       "<div><i>VSOQueryResponseTable length=3</i>\n",
       "<table id=\"table2248067118384\" class=\"table-striped table-bordered table-condensed\">\n",
       "<thead><tr><th>Start Time</th><th>Instrument</th><th>Physobs</th><th>Wavelength</th></tr></thead>\n",
       "<thead><tr><th></th><th></th><th></th><th>Angstrom</th></tr></thead>\n",
       "<thead><tr><th>Time</th><th>str3</th><th>str18</th><th>float64[2]</th></tr></thead>\n",
       "<tr><td>2020-01-01 00:00:22.000</td><td>HMI</td><td>intensity</td><td>6173.0 .. 6174.0</td></tr>\n",
       "<tr><td>2020-01-01 00:00:22.000</td><td>HMI</td><td>LOS_magnetic_field</td><td>6173.0 .. 6174.0</td></tr>\n",
       "<tr><td>2020-01-01 00:00:22.000</td><td>HMI</td><td>LOS_velocity</td><td>6173.0 .. 6174.0</td></tr>\n",
       "</table></div>"
      ],
      "text/plain": [
       "<sunpy.net.vso.table_response.VSOQueryResponseTable object at 0x0000020B6B3ECFB0>\n",
       "       Start Time       Instrument      Physobs          Wavelength   \n",
       "                                                          Angstrom    \n",
       "----------------------- ---------- ------------------ ----------------\n",
       "2020-01-01 00:00:22.000        HMI          intensity 6173.0 .. 6174.0\n",
       "2020-01-01 00:00:22.000        HMI LOS_magnetic_field 6173.0 .. 6174.0\n",
       "2020-01-01 00:00:22.000        HMI       LOS_velocity 6173.0 .. 6174.0"
      ]
     },
     "execution_count": 32,
     "metadata": {},
     "output_type": "execute_result"
    }
   ],
   "source": [
    "results[1,:].show(\"Start Time\", \"Instrument\", \"Physobs\", \"Wavelength\")  "
   ]
  },
  {
   "cell_type": "code",
   "execution_count": 33,
   "metadata": {},
   "outputs": [],
   "source": [
    "aia, hmi = results  "
   ]
  },
  {
   "cell_type": "code",
   "execution_count": 34,
   "metadata": {},
   "outputs": [
    {
     "data": {
      "text/html": [
       "<div><i>VSOQueryResponseTable length=1</i>\n",
       "<table id=\"table2248067118384\" class=\"table-striped table-bordered table-condensed\">\n",
       "<thead><tr><th>Start Time</th><th>Instrument</th><th>Wavelength</th><th>Physobs</th></tr></thead>\n",
       "<thead><tr><th></th><th></th><th>Angstrom</th><th></th></tr></thead>\n",
       "<thead><tr><th>Time</th><th>str3</th><th>float64[2]</th><th>str18</th></tr></thead>\n",
       "<tr><td>2020-01-01 00:00:22.000</td><td>HMI</td><td>6173.0 .. 6174.0</td><td>LOS_magnetic_field</td></tr>\n",
       "</table></div>"
      ],
      "text/plain": [
       "<sunpy.net.vso.table_response.VSOQueryResponseTable object at 0x0000020B6B5261E0>\n",
       "       Start Time       Instrument    Wavelength         Physobs      \n",
       "                                       Angstrom                       \n",
       "----------------------- ---------- ---------------- ------------------\n",
       "2020-01-01 00:00:22.000        HMI 6173.0 .. 6174.0 LOS_magnetic_field"
      ]
     },
     "execution_count": 34,
     "metadata": {},
     "output_type": "execute_result"
    }
   ],
   "source": [
    "hmi_los = hmi[hmi[\"Physobs\"] == \"LOS_magnetic_field\"]  \n",
    "hmi_los.show(\"Start Time\", \"Instrument\", \"Wavelength\", \"Physobs\")  "
   ]
  },
  {
   "cell_type": "code",
   "execution_count": 35,
   "metadata": {},
   "outputs": [
    {
     "data": {
      "text/latex": [
       "$[[335,~335],~\n",
       " [193,~193],~\n",
       " [304,~304],~\n",
       " [4500,~4500],~\n",
       " [131,~131],~\n",
       " [171,~171],~\n",
       " [211,~211],~\n",
       " [94,~94],~\n",
       " [335,~335],~\n",
       " [1600,~1600],~\n",
       " [193,~193],~\n",
       " [304,~304],~\n",
       " [131,~131],~\n",
       " [171,~171],~\n",
       " [211,~211],~\n",
       " [94,~94],~\n",
       " [335,~335],~\n",
       " [1700,~1700],~\n",
       " [193,~193],~\n",
       " [304,~304],~\n",
       " [131,~131],~\n",
       " [171,~171],~\n",
       " [211,~211],~\n",
       " [94,~94],~\n",
       " [335,~335],~\n",
       " [1600,~1600],~\n",
       " [193,~193],~\n",
       " [304,~304],~\n",
       " [131,~131],~\n",
       " [171,~171],~\n",
       " [211,~211],~\n",
       " [94,~94],~\n",
       " [335,~335],~\n",
       " [1700,~1700],~\n",
       " [193,~193],~\n",
       " [304,~304],~\n",
       " [131,~131],~\n",
       " [171,~171],~\n",
       " [211,~211],~\n",
       " [94,~94],~\n",
       " [335,~335]] \\; \\mathrm{\\mathring{A}}$"
      ],
      "text/plain": [
       "<Quantity [[ 335.,  335.],\n",
       "           [ 193.,  193.],\n",
       "           [ 304.,  304.],\n",
       "           [4500., 4500.],\n",
       "           [ 131.,  131.],\n",
       "           [ 171.,  171.],\n",
       "           [ 211.,  211.],\n",
       "           [  94.,   94.],\n",
       "           [ 335.,  335.],\n",
       "           [1600., 1600.],\n",
       "           [ 193.,  193.],\n",
       "           [ 304.,  304.],\n",
       "           [ 131.,  131.],\n",
       "           [ 171.,  171.],\n",
       "           [ 211.,  211.],\n",
       "           [  94.,   94.],\n",
       "           [ 335.,  335.],\n",
       "           [1700., 1700.],\n",
       "           [ 193.,  193.],\n",
       "           [ 304.,  304.],\n",
       "           [ 131.,  131.],\n",
       "           [ 171.,  171.],\n",
       "           [ 211.,  211.],\n",
       "           [  94.,   94.],\n",
       "           [ 335.,  335.],\n",
       "           [1600., 1600.],\n",
       "           [ 193.,  193.],\n",
       "           [ 304.,  304.],\n",
       "           [ 131.,  131.],\n",
       "           [ 171.,  171.],\n",
       "           [ 211.,  211.],\n",
       "           [  94.,   94.],\n",
       "           [ 335.,  335.],\n",
       "           [1700., 1700.],\n",
       "           [ 193.,  193.],\n",
       "           [ 304.,  304.],\n",
       "           [ 131.,  131.],\n",
       "           [ 171.,  171.],\n",
       "           [ 211.,  211.],\n",
       "           [  94.,   94.],\n",
       "           [ 335.,  335.]] Angstrom>"
      ]
     },
     "execution_count": 35,
     "metadata": {},
     "output_type": "execute_result"
    }
   ],
   "source": [
    "aia[\"Wavelength\"]"
   ]
  },
  {
   "cell_type": "code",
   "execution_count": 36,
   "metadata": {},
   "outputs": [
    {
     "data": {
      "text/html": [
       "<div><i>VSOQueryResponseTable length=5</i>\n",
       "<table id=\"table2248068369344\" class=\"table-striped table-bordered table-condensed\">\n",
       "<thead><tr><th>Start Time</th><th>Instrument</th><th>Wavelength</th><th>Physobs</th></tr></thead>\n",
       "<thead><tr><th></th><th></th><th>Angstrom</th><th></th></tr></thead>\n",
       "<thead><tr><th>Time</th><th>str3</th><th>float64[2]</th><th>str9</th></tr></thead>\n",
       "<tr><td>2020-01-01 00:00:11.000</td><td>AIA</td><td>94.0 .. 94.0</td><td>intensity</td></tr>\n",
       "<tr><td>2020-01-01 00:00:23.000</td><td>AIA</td><td>94.0 .. 94.0</td><td>intensity</td></tr>\n",
       "<tr><td>2020-01-01 00:00:35.000</td><td>AIA</td><td>94.0 .. 94.0</td><td>intensity</td></tr>\n",
       "<tr><td>2020-01-01 00:00:47.000</td><td>AIA</td><td>94.0 .. 94.0</td><td>intensity</td></tr>\n",
       "<tr><td>2020-01-01 00:00:59.000</td><td>AIA</td><td>94.0 .. 94.0</td><td>intensity</td></tr>\n",
       "</table></div>"
      ],
      "text/plain": [
       "<sunpy.net.vso.table_response.VSOQueryResponseTable object at 0x0000020B6B479D90>\n",
       "       Start Time       Instrument  Wavelength   Physobs \n",
       "                                     Angstrom            \n",
       "----------------------- ---------- ------------ ---------\n",
       "2020-01-01 00:00:11.000        AIA 94.0 .. 94.0 intensity\n",
       "2020-01-01 00:00:23.000        AIA 94.0 .. 94.0 intensity\n",
       "2020-01-01 00:00:35.000        AIA 94.0 .. 94.0 intensity\n",
       "2020-01-01 00:00:47.000        AIA 94.0 .. 94.0 intensity\n",
       "2020-01-01 00:00:59.000        AIA 94.0 .. 94.0 intensity"
      ]
     },
     "execution_count": 36,
     "metadata": {},
     "output_type": "execute_result"
    }
   ],
   "source": [
    "aia_94 = aia[aia[\"Wavelength\"][:, 0] == 94 * u.AA]  \n",
    "aia_94.show(\"Start Time\", \"Instrument\", \"Wavelength\", \"Physobs\")  "
   ]
  },
  {
   "cell_type": "code",
   "execution_count": 37,
   "metadata": {},
   "outputs": [
    {
     "name": "stderr",
     "output_type": "stream",
     "text": [
      "Files Downloaded: 100%|██████████| 1/1 [00:19<00:00, 19.22s/file]\n"
     ]
    },
    {
     "data": {
      "text/plain": [
       "<parfive.results.Results object at 0x0000020B6A2FE3F0>\n",
       "['C:\\\\Users\\\\19671\\\\sunpy\\\\data\\\\aia.lev1.335A_2020_01_01T00_00_00.64Z.image_lev1.fits']"
      ]
     },
     "execution_count": 37,
     "metadata": {},
     "output_type": "execute_result"
    }
   ],
   "source": [
    "downloaded_files = Fido.fetch(results[0, 0]) \n",
    "downloaded_files "
   ]
  },
  {
   "cell_type": "code",
   "execution_count": 38,
   "metadata": {},
   "outputs": [
    {
     "name": "stderr",
     "output_type": "stream",
     "text": [
      "Files Downloaded: 100%|██████████| 1/1 [00:08<00:00,  8.52s/file]\n"
     ]
    }
   ],
   "source": [
    "downloaded_files = Fido.fetch(results[0, 0],path='C:/Users/19671/Desktop') "
   ]
  }
 ],
 "metadata": {
  "kernelspec": {
   "display_name": "Python 3",
   "language": "python",
   "name": "python3"
  },
  "language_info": {
   "codemirror_mode": {
    "name": "ipython",
    "version": 3
   },
   "file_extension": ".py",
   "mimetype": "text/x-python",
   "name": "python",
   "nbconvert_exporter": "python",
   "pygments_lexer": "ipython3",
   "version": "3.12.7"
  }
 },
 "nbformat": 4,
 "nbformat_minor": 2
}
