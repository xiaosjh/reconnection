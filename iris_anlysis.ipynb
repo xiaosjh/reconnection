{
 "cells": [
  {
   "cell_type": "markdown",
   "metadata": {},
   "source": [
    "本文档用于处理IRIS"
   ]
  },
  {
   "cell_type": "code",
   "execution_count": null,
   "metadata": {},
   "outputs": [],
   "source": []
  },
  {
   "cell_type": "markdown",
   "metadata": {},
   "source": [
    "假设山高2km，A的速度为0.5km/h,B的速度为0.1km/s  \n",
    "那么第一次相遇：即为A折返后碰到B，此时两人的路程和为2倍山高  \n",
    "$V_a * t + V_b * t =2*2km$  \n",
    "$t=20/3h$  \n",
    "第二次相遇，需要先算一下此时B是否折返了。  \n",
    "1）如果没有折返，那就相当于A让B先走了一段，然后再追B  \n",
    "2）如果折返了，那就是B返回来遇到A，相当于两人一共走了四倍的山高  \n",
    "算一下A再次到山顶的时间  \n",
    "$t_1=\\frac{(2+1)*2}{V_a}=12h$  \n",
    "算一下此时B走到了哪里，判断它是否折返  \n",
    "$x_B=t_1*V_b=1.2km < 2km$  \n",
    "所以B此时还没有折返，那么就相当于A追B，此时二者的距离差，就是A刚回到起点时，B走的距离  \n",
    "A什么时候回到的起点？   \n",
    "$t_0=\\frac{2*2}{V_a}$  \n",
    "$t_0=8h$  \n",
    "那么B此时走的距离\n",
    "$x_b=t_0*V_b=0.8km$  \n",
    "所以二者的距离差为0.8km，那么追及问题所需要的时间就是  \n",
    "$t_2=\\frac{0.8}{V_a-V_b}=2h$  \n",
    "所以总时间就是  \n",
    "$T=t_0+t_2=10h$"
   ]
  },
  {
   "cell_type": "code",
   "execution_count": 4,
   "metadata": {},
   "outputs": [
    {
     "name": "stdout",
     "output_type": "stream",
     "text": [
      "第一次相遇的时间为 6.666666666666667 h\n",
      "第二次相遇的时间为 13.333333333333334 h\n"
     ]
    }
   ],
   "source": [
    "va,vb=0.5,0.1\n",
    "print('第一次相遇的时间为',2*2/(va+vb),'h')\n",
    "print('第二次相遇的时间为',4*2/(va+vb),'h')"
   ]
  },
  {
   "cell_type": "code",
   "execution_count": 6,
   "metadata": {},
   "outputs": [
    {
     "name": "stdout",
     "output_type": "stream",
     "text": [
      "(5.714285714285714, 11.428571428571429)\n"
     ]
    }
   ],
   "source": [
    "def cal_time(va,vb,height):\n",
    "    #va,vb是二者的速度, height是山的高度\n",
    "    #暂时认为va>vb这样方便一点\n",
    "    #-------------------------------------------\n",
    "    t=2*height/(va+vb) #第一次二者相遇的时间\n",
    "    #-------------------------------------------\n",
    "    #之后算第二次相遇的时间\n",
    "    t0=3*height/va #这一步就算他A再一次回到山顶的时间\n",
    "    xb0=t0*vb #看一下此时B是否爬到山顶了\n",
    "    if xb0>height:\n",
    "        #如果B爬过山顶了，那么就是B再折返回来与A相遇\n",
    "        T=4*height/(va+vb)\n",
    "    if xb0<=height:\n",
    "        #如果B没爬到山顶，那么就是A又追上了B，追及问题，算一下二人初始的距离差\n",
    "        t1=2*height/va #A再次回到山脚下的时间\n",
    "        xb=t1*vb #此时B走了多远\n",
    "        #这就是二者的距离\n",
    "        #那么追及所需要花的时间就是距离除以速度差\n",
    "        t2=xb/(va-vb)\n",
    "        T=t1+t2\n",
    "    return t,T\n",
    "print(cal_time(0.5,0.2,2))"
   ]
  },
  {
   "cell_type": "code",
   "execution_count": null,
   "metadata": {},
   "outputs": [],
   "source": [
    "import sunpy\n",
    "import sunpy.map\n",
    "import numpy as np\n",
    "from math import *\n",
    "import astropy.units as u\n",
    "from astropy.io import fits\n",
    "import matplotlib.pyplot as plt\n",
    "from scipy.optimize import curve_fit\n",
    "from sunpy.coordinates import frames\n",
    "import matplotlib.gridspec as gridspec\n",
    "from scipy.interpolate import interp1d\n",
    "from astropy.coordinates import SkyCoord\n",
    "from matplotlib.patches import ConnectionPatch\n",
    "import os,cv2\n",
    "from scipy.optimize import fmin\n",
    "from scipy.ndimage import affine_transform\n",
    "import shutil\n",
    "from scipy.io import readsav\n",
    "import glob\n",
    "from matplotlib.patches import Rectangle\n",
    "from scipy.ndimage import zoom"
   ]
  }
 ],
 "metadata": {
  "kernelspec": {
   "display_name": "sun",
   "language": "python",
   "name": "python3"
  },
  "language_info": {
   "codemirror_mode": {
    "name": "ipython",
    "version": 3
   },
   "file_extension": ".py",
   "mimetype": "text/x-python",
   "name": "python",
   "nbconvert_exporter": "python",
   "pygments_lexer": "ipython3",
   "version": "3.11.5"
  }
 },
 "nbformat": 4,
 "nbformat_minor": 2
}
