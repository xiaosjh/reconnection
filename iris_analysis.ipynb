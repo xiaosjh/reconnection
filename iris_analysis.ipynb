{
 "cells": [
  {
   "cell_type": "markdown",
   "metadata": {},
   "source": [
    "本文档用于处理IRIS"
   ]
  },
  {
   "cell_type": "code",
   "execution_count": 1,
   "metadata": {},
   "outputs": [
    {
     "name": "stderr",
     "output_type": "stream",
     "text": [
      "c:\\Users\\19671\\anaconda3\\envs\\sun\\Lib\\site-packages\\tqdm\\auto.py:21: TqdmWarning: IProgress not found. Please update jupyter and ipywidgets. See https://ipywidgets.readthedocs.io/en/stable/user_install.html\n",
      "  from .autonotebook import tqdm as notebook_tqdm\n"
     ]
    }
   ],
   "source": [
    "import sunpy\n",
    "import sunpy.map\n",
    "import numpy as np\n",
    "from math import *\n",
    "import astropy.units as u\n",
    "from astropy.io import fits\n",
    "import matplotlib.pyplot as plt\n",
    "from scipy.optimize import curve_fit\n",
    "from sunpy.coordinates import frames\n",
    "import matplotlib.gridspec as gridspec\n",
    "from scipy.interpolate import interp1d\n",
    "from astropy.coordinates import SkyCoord\n",
    "from matplotlib.patches import ConnectionPatch\n",
    "import os,cv2\n",
    "from scipy.optimize import fmin\n",
    "from scipy.ndimage import affine_transform\n",
    "import shutil\n",
    "from scipy.io import readsav\n",
    "import glob\n",
    "from matplotlib.patches import Rectangle\n",
    "from scipy.ndimage import zoom"
   ]
  },
  {
   "cell_type": "code",
   "execution_count": 2,
   "metadata": {},
   "outputs": [],
   "source": [
    "file_list=glob.glob(r'D:\\Learning\\PHD1st\\magnetic_reconnecion\\data\\IRIS\\iris_l2_20240618_163141_3602506433_raster\\*.fits')\n",
    "rsm=fits.open(file_list[399])"
   ]
  },
  {
   "cell_type": "code",
   "execution_count": 3,
   "metadata": {},
   "outputs": [],
   "source": [
    "solar_xy=readsav(r'D:\\Learning\\PHD1st\\magnetic_reconnecion\\data_process\\solar_xy.sav')"
   ]
  },
  {
   "cell_type": "code",
   "execution_count": 4,
   "metadata": {},
   "outputs": [
    {
     "name": "stdout",
     "output_type": "stream",
     "text": [
      "dict_keys(['solar_x', 'solar_y'])\n"
     ]
    }
   ],
   "source": [
    "print(solar_xy.keys())"
   ]
  },
  {
   "cell_type": "code",
   "execution_count": 5,
   "metadata": {},
   "outputs": [],
   "source": [
    "solar_x=solar_xy['solar_x']\n",
    "solar_y=solar_xy['solar_y']"
   ]
  },
  {
   "cell_type": "code",
   "execution_count": null,
   "metadata": {},
   "outputs": [],
   "source": [
    "print('ss')"
   ]
  },
  {
   "cell_type": "code",
   "execution_count": null,
   "metadata": {},
   "outputs": [],
   "source": [
    "print(\"Hello World\")"
   ]
  },
  {
   "cell_type": "code",
   "execution_count": null,
   "metadata": {},
   "outputs": [],
   "source": [
    "print(\"Hello World2\")"
   ]
  },
  {
   "cell_type": "code",
   "execution_count": null,
   "metadata": {},
   "outputs": [],
   "source": [
    "print(\"Hello World3\")"
   ]
  }
 ],
 "metadata": {
  "kernelspec": {
   "display_name": "sun",
   "language": "python",
   "name": "python3"
  },
  "language_info": {
   "codemirror_mode": {
    "name": "ipython",
    "version": 3
   },
   "file_extension": ".py",
   "mimetype": "text/x-python",
   "name": "python",
   "nbconvert_exporter": "python",
   "pygments_lexer": "ipython3",
   "version": "3.11.5"
  }
 },
 "nbformat": 4,
 "nbformat_minor": 2
}
